{
 "cells": [
  {
   "cell_type": "code",
   "execution_count": 272,
   "metadata": {},
   "outputs": [],
   "source": [
    "import pandas as pd\n",
    "\n",
    "# -- Selenium --\n",
    "from selenium import webdriver\n",
    "from selenium.webdriver.chrome.options import Options\n",
    "import time\n",
    "from time import sleep\n",
    "from selenium.webdriver.common.by import By\n",
    "import re\n",
    "\n",
    "\n",
    "# -- API --\n",
    "import re\n",
    "import json\n",
    "import requests\n",
    "from tqdm import tqdm\n",
    "\n",
    "# Get today\n",
    "from datetime import date\n",
    "\n",
    "# Check time\n",
    "from tqdm import tqdm"
   ]
  },
  {
   "cell_type": "code",
   "execution_count": 287,
   "metadata": {},
   "outputs": [
    {
     "name": "stderr",
     "output_type": "stream",
     "text": [
      "C:\\Users\\Admin\\AppData\\Local\\Temp\\ipykernel_9660\\1752774495.py:1: DeprecationWarning: executable_path has been deprecated, please pass in a Service object\n",
      "  driver = webdriver.Chrome(executable_path=r\"C:/Users/Admin/OneDrive_Quan/Máy tính/crawl_web_RA/chromedriver/chromedriver\")\n"
     ]
    }
   ],
   "source": [
    "# Open chrome with chromeDriver\n",
    "# Check version your Chrome and download the same version chromeDriver\n",
    "# https://chromedriver.chromium.org/downloads\n",
    "\n",
    "driver = webdriver.Chrome(executable_path=r\"C:/Users/Admin/OneDrive_Quan/Máy tính/crawl_web_RA/chromedriver/chromedriver\")"
   ]
  },
  {
   "cell_type": "code",
   "execution_count": 292,
   "metadata": {},
   "outputs": [],
   "source": [
    "# Auto Login or Pass the block from Shopee\n",
    "\n",
    "def login_account(driver):\n",
    "    if(len(driver.find_elements(by=By.NAME, value='loginKey'))):\n",
    "        _username = 'will@socialyze.asia'\n",
    "        _password = 'Quan0388925887'\n",
    "\n",
    "        username_field = driver.find_element(by=By.NAME, value='loginKey')\n",
    "        username_field.send_keys(_username)\n",
    "\n",
    "        password_field = driver.find_element(by=By.NAME, value='password')\n",
    "        password_field.send_keys(_password)\n",
    "\n",
    "        sleep(0.5)\n",
    "\n",
    "        login_button = driver.find_element(by=By.XPATH, value='//button[@class=\"wyhvVD _1EApiB hq6WM5 L-VL8Q cepDQ1 _7w24N1\"]')\n",
    "        login_button.click()\n",
    "\n",
    "        sleep(10)"
   ]
  },
  {
   "cell_type": "code",
   "execution_count": 275,
   "metadata": {},
   "outputs": [],
   "source": [
    "link_products = []\n",
    "\n",
    "number_of_page_items = 10 # Depend on the number of product page\n",
    "\n",
    "# Get link products from link shop items\n",
    "for i in range(number_of_page_items): \n",
    "    link_list_products = f\"https://shopee.vn/kemnghiavy90?page={i}&sortBy=pop\"\n",
    "    driver.get(link_list_products)\n",
    "    driver.execute_script(\"window.scrollTo(0, document.body.scrollHeight);\")\n",
    "    sleep(2)\n",
    "    driver.execute_script(\"window.scrollTo(0, 1000);\")\n",
    "    sleep(1)\n",
    "    xpath_hrefs = driver.find_elements(by=By.XPATH, value='//div[@class=\"shop-search-result-view__item col-xs-2-4\"]/a')\n",
    "\n",
    "    for xpath_href in xpath_hrefs:\n",
    "        link_products.append(xpath_href.get_attribute('href'))\n",
    "\n",
    "    if(len(xpath_hrefs) < 10):\n",
    "        break"
   ]
  },
  {
   "cell_type": "code",
   "execution_count": 276,
   "metadata": {},
   "outputs": [
    {
     "data": {
      "text/plain": [
       "20"
      ]
     },
     "execution_count": 276,
     "metadata": {},
     "output_type": "execute_result"
    }
   ],
   "source": [
    "len(set(link_products))"
   ]
  },
  {
   "cell_type": "code",
   "execution_count": 277,
   "metadata": {},
   "outputs": [],
   "source": [
    "pd.DataFrame(link_products, columns = ['link']).to_csv('C:/Users/Admin/OneDrive_Quan/Máy tính/crawl_web_RA/20220907_KemNghia/link_products_kemnghiavy90.csv', index = False)"
   ]
  },
  {
   "cell_type": "code",
   "execution_count": 278,
   "metadata": {},
   "outputs": [
    {
     "data": {
      "text/plain": [
       "0     https://shopee.vn/K%E1%BB%81m-ngh%C4%A9a-c%E1%...\n",
       "1     https://shopee.vn/K%E1%BB%81m-ngh%C4%A9a-D04-m...\n",
       "2     https://shopee.vn/K%E1%BB%81m-ngh%C4%A9a-c%E1%...\n",
       "3     https://shopee.vn/K%E1%BB%81m-ngh%C4%A9a-c%E1%...\n",
       "4     https://shopee.vn/K%C3%A9o-ngh%C4%A9a-t%E1%BB%...\n",
       "5     https://shopee.vn/K%E1%BB%81m-ngh%C4%A9a-c%E1%...\n",
       "6     https://shopee.vn/B%E1%BB%99-r%C3%A1y-tai-k%E1...\n",
       "7     https://shopee.vn/K%E1%BB%81m-ngh%C4%A9a-c%E1%...\n",
       "8     https://shopee.vn/K%E1%BB%81m-ngh%C4%A9a-c%E1%...\n",
       "9     https://shopee.vn/K%E1%BB%81m-ngh%C4%A9a-c%E1%...\n",
       "10    https://shopee.vn/S%E1%BB%A7i-da-k%E1%BB%81m-n...\n",
       "11    https://shopee.vn/k%E1%BB%81m-ngh%C4%A9a-c%E1%...\n",
       "12    https://shopee.vn/k%E1%BB%81m-ngh%C4%A9a-c%E1%...\n",
       "13    https://shopee.vn/K%E1%BB%81m-ngh%C4%A9a-c%E1%...\n",
       "14    https://shopee.vn/K%E1%BB%81m-Ngh%C4%A9a-M04-c...\n",
       "15    https://shopee.vn/K%C3%A9o-Ngh%C4%A9a-c%E1%BA%...\n",
       "16    https://shopee.vn/B%E1%BB%99-k%E1%BB%81m-ngh%C...\n",
       "17    https://shopee.vn/K%E1%BB%81m-ngh%C4%A9a-b%E1%...\n",
       "18    https://shopee.vn/K%C3%A9o-ngh%C4%A9a-c%E1%BA%...\n",
       "19    https://shopee.vn/K%E1%BB%81m-ngh%C4%A9a-c%E1%...\n",
       "Name: link, dtype: object"
      ]
     },
     "execution_count": 278,
     "metadata": {},
     "output_type": "execute_result"
    }
   ],
   "source": [
    "link_products = pd.read_csv('C:/Users/Admin/OneDrive_Quan/Máy tính/crawl_web_RA/20220907_KemNghia/link_products_kemnghiavy90.csv')\n",
    "link_products = link_products.link\n",
    "link_products"
   ]
  },
  {
   "cell_type": "markdown",
   "metadata": {},
   "source": [
    "Get cmt from link_products"
   ]
  },
  {
   "cell_type": "code",
   "execution_count": 279,
   "metadata": {},
   "outputs": [],
   "source": [
    "# Get comment counts\n",
    "\n",
    "def get_cmt_counts(driver):\n",
    "    check_cmt_counts = driver.find_element(by=By.XPATH, value='//div[@class=\"product-rating-overview__filter product-rating-overview__filter--with-comment\"]').text\n",
    "    cmt_counts = 0\n",
    "    if('k' in check_cmt_counts):\n",
    "        get_number_in_check_cmt_counts = re.findall('\\d', check_cmt_counts)\n",
    "        if(len(get_number_in_check_cmt_counts) == 1): # only [1,2,...,9]k\n",
    "            cmt_counts = int(get_number_in_check_cmt_counts[0])*1000\n",
    "        elif(len(get_number_in_check_cmt_counts) == 2): # >= 1k and <= 9k9\n",
    "            cmt_counts = int(get_number_in_check_cmt_counts[0])*1000 + int(get_number_in_check_cmt_counts[1])*100\n",
    "        elif(len(get_number_in_check_cmt_counts) == 3): # >= 10k and <= 99k9\n",
    "            cmt_counts = int(get_number_in_check_cmt_counts[0])*10000 + int(get_number_in_check_cmt_counts[1])*1000 + int(get_number_in_check_cmt_counts[2])*100\n",
    "    elif('k' not in check_cmt_counts):\n",
    "        if(len(re.findall('\\d', check_cmt_counts)) == 2): # 10 -99\n",
    "            cmt_counts = int(re.findall('\\d', check_cmt_counts)[0])*10 + int(re.findall('\\d', check_cmt_counts)[1])\n",
    "        elif(len(re.findall('\\d', check_cmt_counts)) == 3): # 100 - 999\n",
    "            cmt_counts = int(re.findall('\\d', check_cmt_counts)[0])*100 + int(re.findall('\\d', check_cmt_counts)[1])*10 + int(re.findall('\\d', check_cmt_counts)[2])\n",
    "        elif(len(re.findall('\\d', check_cmt_counts)) == 1): # 0 - 9\n",
    "            cmt_counts = int(re.findall('\\d', check_cmt_counts)[0])\n",
    "    return cmt_counts"
   ]
  },
  {
   "cell_type": "code",
   "execution_count": 280,
   "metadata": {},
   "outputs": [],
   "source": [
    "# Crawl data from multiple threads\n",
    "\n",
    "def startCrawl(product_links, list_product):\n",
    "    driver = webdriver.Chrome(executable_path=r\"C:/Users/Admin/OneDrive_Quan/Máy tính/crawl_web_RA/chromedriver/chromedriver\")\n",
    "    check_point_link_product = 1\n",
    "    for link_product in product_links:\n",
    "\n",
    "        driver.get(link_product)\n",
    "        sleep(4)\n",
    "        driver.execute_script(\"window.scrollTo(0, document.body.scrollHeight);\")\n",
    "\n",
    "        # Check block login\n",
    "        login_account(driver)\n",
    "\n",
    "        sleep(1)\n",
    "        driver.execute_script(\"window.scrollTo(0, 500);\")\n",
    "\n",
    "        print(driver.find_element(by=By.XPATH, value='//div[@class=\"_2rQP1z\"]').text)\n",
    "\n",
    "        if('kềm nghĩa' in (driver.find_element(by=By.XPATH, value='//div[@class=\"_2rQP1z\"]').text).lower()):\n",
    "            login_account(driver)\n",
    "\n",
    "            driver.execute_script(\"window.scrollTo(0, 1000);\")\n",
    "            sleep(1)\n",
    "            driver.execute_script(\"window.scrollTo(0, 500);\")\n",
    "            sleep(0.5)\n",
    "            driver.execute_script(\"window.scrollTo(0, 1500);\")\n",
    "            sleep(0.5)\n",
    "\n",
    "            cmt_counts = get_cmt_counts(driver)\n",
    "\n",
    "            if(cmt_counts < 8): # Check link if the page has only 1 comment page (1 comment page shopee has only 6 comments)\n",
    "                xpath_names = driver.find_elements(by=By.XPATH, value='//a[@class=\"shopee-product-rating__author-name\"]')\n",
    "                xpath_cmts = driver.find_elements(by=By.XPATH, value='//div[@class=\"_280jKz\"]')\n",
    "                xpath_review_ratings = driver.find_elements(by=By.CSS_SELECTOR, value = '.shopee-product-rating')\n",
    "                xpath_date_cmts = driver.find_elements(by=By.XPATH, value='//div[@class=\"shopee-product-rating__time\"]')\n",
    "\n",
    "                for i in range(len(xpath_names)):\n",
    "                    login_account(driver)\n",
    "\n",
    "                    Product_Infos = {}\n",
    "\n",
    "                    shopid_productid = link_products[0].split('?sp_atk')[0].split('-i.')[1].split('.')\n",
    "\n",
    "                    Product_Infos['shop_ids'] = shopid_productid[0]\n",
    "                    Product_Infos['product_ids'] = shopid_productid[1]\n",
    "\n",
    "                    try:\n",
    "                        Product_Infos['names'] = xpath_names[i].text\n",
    "                    except:\n",
    "                        continue\n",
    "\n",
    "                    try:\n",
    "                        Product_Infos['cmts'] = xpath_cmts[i].text\n",
    "                    except:\n",
    "                        continue\n",
    "\n",
    "                    try:\n",
    "                        Product_Infos['review_ratings'] = len(xpath_review_ratings[i].find_elements(by=By.CSS_SELECTOR, value = '.icon-rating-solid'))\n",
    "                    except:\n",
    "                        continue\n",
    "\n",
    "\n",
    "                    Product_Infos['link_crawlings'] = link_product\n",
    "\n",
    "                    try:\n",
    "                        Product_Infos['date_cmts'] = xpath_date_cmts[i].text\n",
    "                    except:\n",
    "                        continue\n",
    "\n",
    "                    Product_Infos['date_crawl'] = str(date.today())\n",
    "                    list_product.append(Product_Infos)\n",
    "                    sleep(1)\n",
    "            else: # Check link if the page has 2 comment pages or more\n",
    "                check_point = 1 # Check number of crawled link\n",
    "\n",
    "\n",
    "                login_account(driver)\n",
    "\n",
    "                for check_point in range(get_cmt_counts(driver) // 6):\n",
    "\n",
    "                    driver.execute_script(\"window.scrollTo(0, 1000);\")\n",
    "                    sleep(0.5)\n",
    "\n",
    "                    login_account(driver)\n",
    "\n",
    "                    driver.execute_script(\"window.scrollTo(0, 1500);\")\n",
    "                    sleep(0.5)\n",
    "\n",
    "                    xpath_names = driver.find_elements(by=By.XPATH, value='//a[@class=\"shopee-product-rating__author-name\"]')\n",
    "                    xpath_cmts = driver.find_elements(by=By.XPATH, value='//div[@class=\"_280jKz\"]')\n",
    "                    xpath_review_ratings = driver.find_elements(by=By.CSS_SELECTOR, value = '.shopee-product-rating')\n",
    "                    xpath_date_cmts = driver.find_elements(by=By.XPATH, value='//div[@class=\"shopee-product-rating__time\"]')\n",
    "                    sleep(1)\n",
    "\n",
    "                    for i in range(len(xpath_names)):\n",
    "                        login_account(driver)\n",
    "\n",
    "                        Product_Infos = {}\n",
    "\n",
    "                        shopid_productid = link_products[0].split('?sp_atk')[0].split('-i.')[1].split('.')\n",
    "\n",
    "                        Product_Infos['shop_ids'] = shopid_productid[0]\n",
    "                        Product_Infos['product_ids'] = shopid_productid[1]\n",
    "\n",
    "                        try:\n",
    "                            Product_Infos['names'] = xpath_names[i].text\n",
    "                        except:\n",
    "                            continue\n",
    "\n",
    "                        try:\n",
    "                            Product_Infos['cmts'] = xpath_cmts[i].text\n",
    "                        except:\n",
    "                            continue\n",
    "\n",
    "                        try:\n",
    "                            Product_Infos['review_ratings'] = len(xpath_review_ratings[i].find_elements(by=By.CSS_SELECTOR, value = '.icon-rating-solid'))\n",
    "                        except:\n",
    "                            continue\n",
    "\n",
    "\n",
    "                        Product_Infos['link_crawlings'] = link_product\n",
    "\n",
    "                        try:\n",
    "                            Product_Infos['date_cmts'] = xpath_date_cmts[i].text\n",
    "                        except:\n",
    "                            continue\n",
    "\n",
    "                        Product_Infos['date_crawl'] = str(date.today())\n",
    "                        list_product.append(Product_Infos)\n",
    "\n",
    "                        button_continue = driver.find_element(by=By.XPATH, value='//button[@class=\"shopee-icon-button shopee-icon-button--right \"]')\n",
    "                        button_continue.click()\n",
    "                    print(str(check_point) + ' --- ' + str(len(list_product)))\n",
    "\n",
    "                    check_point += 1\n",
    "           \n",
    "        else:\n",
    "            print('Khong co keyword \"Kem Nghia\" trong ten san pham')\n",
    "            pass\n",
    "    \n",
    "        print(\"Link product thu \", check_point_link_product)\n",
    "        check_point_link_product += 1"
   ]
  },
  {
   "cell_type": "code",
   "execution_count": 281,
   "metadata": {},
   "outputs": [],
   "source": [
    "import threading\n",
    "import numpy as np\n",
    "\n",
    "list_threads = []\n",
    "list_product = []\n",
    "num_thread = 3 # Number of threads\n",
    "list_partitions = [partition for partition in np.array_split(link_products, num_thread)]\n",
    "for partition_list in list_partitions:\n",
    "    list_threads.append(threading.Thread(target=startCrawl, args=(partition_list, list_product)))"
   ]
  },
  {
   "cell_type": "code",
   "execution_count": 282,
   "metadata": {},
   "outputs": [
    {
     "name": "stderr",
     "output_type": "stream",
     "text": [
      "C:\\Users\\Admin\\AppData\\Local\\Temp\\ipykernel_9660\\2815204012.py:2: DeprecationWarning: executable_path has been deprecated, please pass in a Service object\n",
      "  driver = webdriver.Chrome(executable_path=r\"C:/Users/Admin/OneDrive_Quan/Máy tính/crawl_web_RA/chromedriver/chromedriver\")\n"
     ]
    },
    {
     "name": "stdout",
     "output_type": "stream",
     "text": [
      "Kềm nghĩa cắt da D18\n"
     ]
    }
   ],
   "source": [
    "for thread in list_threads:\n",
    "    thread.start()  \n",
    "    time.sleep(5)       "
   ]
  },
  {
   "cell_type": "code",
   "execution_count": null,
   "metadata": {},
   "outputs": [],
   "source": [
    "for thread in list_threads:\n",
    "    thread.join()  "
   ]
  },
  {
   "cell_type": "code",
   "execution_count": 284,
   "metadata": {},
   "outputs": [
    {
     "data": {
      "text/plain": [
       "4"
      ]
     },
     "execution_count": 284,
     "metadata": {},
     "output_type": "execute_result"
    }
   ],
   "source": [
    "len(list_product)"
   ]
  },
  {
   "cell_type": "code",
   "execution_count": 285,
   "metadata": {},
   "outputs": [],
   "source": [
    "pd.DataFrame(list_product).to_csv('C:/Users/Admin/OneDrive_Quan/Máy tính/crawl_web_RA/20220907_KemNghia/cmts_kemnghiavy90.csv', index=False)"
   ]
  }
 ],
 "metadata": {
  "kernelspec": {
   "display_name": "Python 3.10.4 64-bit",
   "language": "python",
   "name": "python3"
  },
  "language_info": {
   "codemirror_mode": {
    "name": "ipython",
    "version": 3
   },
   "file_extension": ".py",
   "mimetype": "text/x-python",
   "name": "python",
   "nbconvert_exporter": "python",
   "pygments_lexer": "ipython3",
   "version": "3.10.4"
  },
  "orig_nbformat": 4,
  "vscode": {
   "interpreter": {
    "hash": "a42ccb73e7d9bfdf27e036f1d2b8b681e55fc0743cc5586bc2474d4a60f4b886"
   }
  }
 },
 "nbformat": 4,
 "nbformat_minor": 2
}
